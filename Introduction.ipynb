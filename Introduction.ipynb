{
  "nbformat": 4,
  "nbformat_minor": 0,
  "metadata": {
    "colab": {
      "provenance": [],
      "authorship_tag": "ABX9TyOalhyYPxLHqsbNx4/6DTsl",
      "include_colab_link": true
    },
    "kernelspec": {
      "name": "python3",
      "display_name": "Python 3"
    },
    "language_info": {
      "name": "python"
    }
  },
  "cells": [
    {
      "cell_type": "markdown",
      "metadata": {
        "id": "view-in-github",
        "colab_type": "text"
      },
      "source": [
        "<a href=\"https://colab.research.google.com/github/deden2hd/School_Assignments/blob/main/Introduction.ipynb\" target=\"_parent\"><img src=\"https://colab.research.google.com/assets/colab-badge.svg\" alt=\"Open In Colab\"/></a>"
      ]
    },
    {
      "cell_type": "markdown",
      "source": [
        "# **Python Programming Basics**\n",
        "## **1.Apa itu Variable**\n",
        "Variabel adalah tempat penyimpanan data yang diberi nama, sehingga kita bisa menggunakan dan memodifikasinya di dalam program. Ibaratnya seperti sebuah \"wadah\" yang menyimpan nilai yang bisa berubah. Dalam Python, variabel tidak perlu dideklarasikan dengan tipe data tertentu; cukup tuliskan nama variabel dan berikan nilai.\n",
        "\n"
      ],
      "metadata": {
        "id": "JC9Ys6yWsshq"
      }
    },
    {
      "cell_type": "code",
      "source": [
        "x = 5 # x adalah variable\n",
        "nama = \"Xaviera\" # nama adalah variable"
      ],
      "metadata": {
        "id": "GWCp_Wlvtcmx"
      },
      "execution_count": null,
      "outputs": []
    },
    {
      "cell_type": "markdown",
      "source": [
        "---\n",
        "## **2.Tiga tipe data dasar python**\n",
        "1. **Integer (INT):** Tipe data bilangan bulat\n",
        "2. **Float:** Tipe data bilangan desimal\n",
        "3. **String (STR):** Tipe data kumpulan karakter"
      ],
      "metadata": {
        "id": "-QMWicG6tg-t"
      }
    },
    {
      "cell_type": "code",
      "source": [
        "bilangan_bulat = 10 # Tipe data bilangan integer\n",
        "bilangan_desimal = 3.14 # Tipe data bilangan float\n",
        "kumpulan_karakter = \"Xaviera\" # Tipe data String"
      ],
      "metadata": {
        "id": "BRUjquq4uaUm"
      },
      "execution_count": null,
      "outputs": []
    },
    {
      "cell_type": "markdown",
      "source": [
        "---\n",
        "## **3. Fungsi operator pada python**\n",
        "1. **Operator `+` (Penjumlahan)**\n",
        "2. **Operator `-` (Pengurangan)**\n",
        "3. **Operator `*` (Perkalian)**\n",
        "4. **Operator `/` (Pembagian)**\n",
        "5. **Operator `%` (Modulus)**"
      ],
      "metadata": {
        "id": "PuTB-Czsu8fI"
      }
    },
    {
      "cell_type": "markdown",
      "source": [
        "---\n",
        "## **4. Perbedaan operator `==` dan `!=`**\n",
        "- **Operator** `==` digunakan untuk memeriksa kesamaan dua nilai. Jika nilai sama, hasilnya True, jika tidak, **False**.\n",
        "- **Operator** `!=` digunakan untuk memeriksa ketidaksamaan dua nilai. Jika nilai tidak sama, hasilnya True, jika sama, **False**."
      ],
      "metadata": {
        "id": "hNhFTo76xREv"
      }
    },
    {
      "cell_type": "markdown",
      "source": [
        "---\n",
        "## **5.Contoh Program Python**\n",
        "**Operator Aritmatika**"
      ],
      "metadata": {
        "id": "_Qw-52v-ygCn"
      }
    },
    {
      "cell_type": "code",
      "source": [
        "a = 10\n",
        "b = 3\n",
        "\n",
        "# Penjumlahan\n",
        "print(a + b)\n",
        "\n",
        "# Pengurangan\n",
        "print(a - b)\n",
        "\n",
        "# Perkalian\n",
        "print(a * b)\n",
        "\n",
        "# Pembagian\n",
        "print(a / b)\n",
        "\n",
        "# Modulus\n",
        "print(a % b)\n"
      ],
      "metadata": {
        "id": "F5Cbh4kjyvYU"
      },
      "execution_count": null,
      "outputs": []
    },
    {
      "cell_type": "markdown",
      "source": [
        "**Operator perbandingan**"
      ],
      "metadata": {
        "id": "h-OzTC7Ty9c0"
      }
    },
    {
      "cell_type": "code",
      "source": [
        "x = 10\n",
        "y = 5\n",
        "\n",
        "print(x == y)  # Apakah x sama dengan y?\n",
        "print(x != y)  # Apakah x tidak sama dengan y?\n",
        "print(x > y)   # Apakah x lebih besar dari y?\n",
        "print(x < y)   # Apakah x lebih kecil dari y?"
      ],
      "metadata": {
        "id": "aIMsAdebzOr6"
      },
      "execution_count": null,
      "outputs": []
    },
    {
      "cell_type": "markdown",
      "source": [
        "**Operator logika**"
      ],
      "metadata": {
        "id": "_kUjfEJCzbiq"
      }
    },
    {
      "cell_type": "code",
      "source": [
        "x = True\n",
        "y = False\n",
        "\n",
        "# Operator AND\n",
        "print(x and y)\n",
        "\n",
        "# Operator OR\n",
        "print(x or y)\n",
        "\n",
        "# Operator NOT\n",
        "print(not x)\n"
      ],
      "metadata": {
        "id": "rNqse3bwzogM"
      },
      "execution_count": null,
      "outputs": []
    },
    {
      "cell_type": "markdown",
      "source": [
        "---\n",
        "## 6. **Apa yang dimaksud dengan logika pemograman**\n",
        "Logika pemrograman adalah cara berpikir sistematis untuk menyelesaikan masalah dengan menggunakan instruksi-instruksi yang dapat dipahami komputer. Ini mencakup penggunaan struktur seperti perulangan, kondisi, dan keputusan untuk memproses data. Dengan logika pemrograman yang baik, kamu bisa membuat program yang efisien dan efektif."
      ],
      "metadata": {
        "id": "Th0qPw8Lzp3b"
      }
    },
    {
      "cell_type": "markdown",
      "source": [
        "---\n",
        "## 7. **Pseudocode untuk Program yang Meminta 2 Angka dari Pengguna**\n",
        "\n",
        "**Pseudocode**"
      ],
      "metadata": {
        "id": "_yKJ6LJ1z9Wz"
      }
    },
    {
      "cell_type": "code",
      "source": [
        "Mulai\n",
        "   Minta input angka pertama\n",
        "   Minta input angka kedua\n",
        "   Tambahkan kedua angka\n",
        "   Tampilkan hasilnya\n",
        "Selesai\n"
      ],
      "metadata": {
        "id": "z-6aA_g80IM8"
      },
      "execution_count": null,
      "outputs": []
    },
    {
      "cell_type": "markdown",
      "source": [
        "**Python code**"
      ],
      "metadata": {
        "id": "v5FEH8j60KhO"
      }
    },
    {
      "cell_type": "code",
      "source": [
        "# Program meminta 2 angka dari pengguna dan menjumlahkannya\n",
        "angka1 = int(input(\"Masukkan angka pertama: \"))\n",
        "angka2 = int(input(\"Masukkan angka kedua: \"))\n",
        "\n",
        "hasil = angka1 + angka2\n",
        "\n",
        "print(f\"Hasil penjumlahan adalah: {hasil}\")\n"
      ],
      "metadata": {
        "id": "6bVKV_k80Pwu"
      },
      "execution_count": null,
      "outputs": []
    },
    {
      "cell_type": "markdown",
      "source": [
        "---\n",
        "## 8. **Program Kalkulator sederhana**"
      ],
      "metadata": {
        "id": "jPYfikIF0UsT"
      }
    },
    {
      "cell_type": "code",
      "source": [
        "# Program Kalkulator Sederhana\n",
        "\n",
        "def kalkulator():\n",
        "    print(\"Pilih Operasi:\")\n",
        "    print(\"1. Tambah\")\n",
        "    print(\"2. Kurang\")\n",
        "    print(\"3. Kali\")\n",
        "    print(\"4. Bagi\")\n",
        "\n",
        "    pilihan = input(\"Masukkan pilihan (1/2/3/4): \")\n",
        "\n",
        "    num1 = float(input(\"Masukkan angka pertama: \"))\n",
        "    num2 = float(input(\"Masukkan angka kedua: \"))\n",
        "\n",
        "    if pilihan == '1':\n",
        "        print(f\"Hasil: {num1 + num2}\")\n",
        "    elif pilihan == '2':\n",
        "        print(f\"Hasil: {num1 - num2}\")\n",
        "    elif pilihan == '3':\n",
        "        print(f\"Hasil: {num1 * num2}\")\n",
        "    elif pilihan == '4':\n",
        "        if num2 != 0:\n",
        "            print(f\"Hasil: {num1 / num2}\")\n",
        "        else:\n",
        "            print(\"Tidak bisa membagi dengan 0!\")\n",
        "    else:\n",
        "        print(\"Pilihan tidak valid.\")\n",
        "\n",
        "kalkulator()\n"
      ],
      "metadata": {
        "id": "4OnUerWC0m4T"
      },
      "execution_count": null,
      "outputs": []
    }
  ]
}