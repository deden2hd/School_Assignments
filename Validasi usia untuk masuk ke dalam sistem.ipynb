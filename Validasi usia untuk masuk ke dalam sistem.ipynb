{
  "nbformat": 4,
  "nbformat_minor": 0,
  "metadata": {
    "colab": {
      "provenance": [],
      "authorship_tag": "ABX9TyNxWR/RxHttiSp4xTgPIQKg",
      "include_colab_link": true
    },
    "kernelspec": {
      "name": "python3",
      "display_name": "Python 3"
    },
    "language_info": {
      "name": "python"
    }
  },
  "cells": [
    {
      "cell_type": "markdown",
      "metadata": {
        "id": "view-in-github",
        "colab_type": "text"
      },
      "source": [
        "<a href=\"https://colab.research.google.com/github/deden2hd/School_Assignments/blob/main/Validasi%20usia%20untuk%20masuk%20ke%20dalam%20sistem.ipynb\" target=\"_parent\"><img src=\"https://colab.research.google.com/assets/colab-badge.svg\" alt=\"Open In Colab\"/></a>"
      ]
    },
    {
      "cell_type": "markdown",
      "source": [
        "# **Validasi Usia Untuk Akses Sistem**\n",
        "\n",
        "### **Pendahuluan:**\n",
        "**Program** ini bertujuan untuk memvalidasi usia seseorang dan menentukan apakah mereka memenuhi syarat untuk mendapatkan akses ke **sistem**. Batas usia ditetapkan antara 18 hingga 65 tahun. Kita menggunakan logika `and` untuk memeriksa apakah usia seseorang berada di dalam rentang tersebut.\n",
        "\n",
        "### **Logika Validasi**:\n",
        "Kita menggunakan operator logika `and`, yang akan mengembalikan nilai `True` hanya jika kedua kondisi terpenuhi, yaitu:\n",
        "- Usia lebih besar atau sama dengan 18 (`age >= 18`)\n",
        "- Usia lebih kecil atau sama dengan 65 (`age <= 65`)\n",
        "\n",
        "### **Hasil**:\n",
        "Program akan menghasilkan variabel `is_eligible`, yang nilainya `True` jika usia seseorang berada di antara 18 dan 65, dan `False` jika tidak."
      ],
      "metadata": {
        "id": "Pewti4OHDHyH"
      }
    },
    {
      "cell_type": "markdown",
      "source": [
        "---\n",
        "**1.** Menyampaikan pesan selamat datang, menggunakan fungsi `print()`"
      ],
      "metadata": {
        "id": "JslpAYfpIuf6"
      }
    },
    {
      "cell_type": "code",
      "execution_count": null,
      "metadata": {
        "id": "VUp2iooXCl8R"
      },
      "outputs": [],
      "source": [
        "print(\"Selamat datang di program validasi usia\\n\")"
      ]
    },
    {
      "cell_type": "markdown",
      "source": [
        "**2.** Membuat *variable* untuk menampung usia yang diinput oleh user\n",
        "\n",
        "Penjelasan:\n",
        "- `age` : Adalah sebuah variable, yang manampung usia\n",
        "- `input()` : Fungsi untuk meminta input dari user\n",
        "- `int()` : Fungsi untuk mengubah tipe data yang dikirim oleh user menjadi bilagan bulat\n"
      ],
      "metadata": {
        "id": "WtWxg4-7KYVR"
      }
    },
    {
      "cell_type": "code",
      "source": [
        "age = int(input(\"Masukkan usia anda: \"))"
      ],
      "metadata": {
        "id": "-MmVmntWLaah"
      },
      "execution_count": null,
      "outputs": []
    },
    {
      "cell_type": "markdown",
      "source": [
        "**3.** Membuat variable dengan tujuan apakah usia yang dikirim, sudah masuk kedalam syarat\n",
        "\n",
        "Penjelasan:\n",
        "- `is_eligible` : Adalah sebuah variable untuk menyimpan hasil dari logika\n",
        "- `age >= 18` : Usia yang dikirim oleh user harus melebihi dari 18\n",
        "- `age <= 65` : Usia yang dikirim oleh user tidak boleh melebihi dari 65\n",
        "- `and` : Adalah operator logika, yang manghasilkan nilai True, jika kedua kondisi yang ditentukan tidak dilanggar\n"
      ],
      "metadata": {
        "id": "dSB0LF95L7vR"
      }
    },
    {
      "cell_type": "code",
      "source": [
        "is_eligible = age >= 18 and age <= 65"
      ],
      "metadata": {
        "id": "XRHOXJM2MRDQ"
      },
      "execution_count": null,
      "outputs": []
    },
    {
      "cell_type": "markdown",
      "source": [
        "**4.** Hasil akhir dari usia yang dikirim, apakah akan menghasilkan True atau False\n"
      ],
      "metadata": {
        "id": "IVG3FL45N5xv"
      }
    },
    {
      "cell_type": "code",
      "source": [
        "print(f\"Sistem menyatakan usia anda {age}, boleh masuk kedalam sistem ini : {is_eligible}\")"
      ],
      "metadata": {
        "id": "orJaxj8bOK_5"
      },
      "execution_count": null,
      "outputs": []
    },
    {
      "cell_type": "markdown",
      "source": [
        "## **Kode Lengkap:**"
      ],
      "metadata": {
        "id": "ccVUYEK3OXSj"
      }
    },
    {
      "cell_type": "code",
      "source": [
        "# Menampilkan pesan sambutan kepada pengguna\n",
        "print(\"Selamat datang di program validasi usia\\n\")\n",
        "\n",
        "# Mengambil input usia dari pengguna dan mengonversinya menjadi tipe data integer\n",
        "age = int(input(\"Tolong masukkan usia anda: \"))\n",
        "\n",
        "# Melakukan validasi apakah usia berada di antara 18 hingga 65 tahun (inklusif)\n",
        "is_eligible = age >= 18 and age <= 65\n",
        "\n",
        "# Menampilkan hasil validasi usia\n",
        "print(f\"Sistem menyatakan usia anda {age}, boleh masuk kedalam sistem ini : {is_eligible}\")"
      ],
      "metadata": {
        "colab": {
          "base_uri": "https://localhost:8080/"
        },
        "id": "Wkq6QD-wOifj",
        "outputId": "205ea5ed-3324-4622-d0a6-c172f24dd211"
      },
      "execution_count": 5,
      "outputs": [
        {
          "output_type": "stream",
          "name": "stdout",
          "text": [
            "Selamat datang di program validasi usia\n",
            "\n",
            "Tolong masukkan usia anda: 19\n",
            "Sistem menyatakan usia anda 19, boleh masuk kedalam sistem ini : True\n"
          ]
        }
      ]
    }
  ]
}